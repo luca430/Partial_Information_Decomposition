{
 "cells": [
  {
   "cell_type": "code",
   "execution_count": null,
   "id": "5d33336a",
   "metadata": {},
   "outputs": [],
   "source": [
    "import numpy as np\n",
    "import matplotlib.pyplot as plt\n",
    "import scipy.io\n",
    "from PID_functions import *\n",
    "%matplotlib inline\n",
    "np.random.seed(1010)"
   ]
  },
  {
   "cell_type": "markdown",
   "id": "7ee135e3",
   "metadata": {},
   "source": [
    "## PHID decomposition on simulated data\n",
    "\n",
    "We propose the same time series used to check the correctness of our PID function to check also the PHID decomposition proposed by Mediano. In particular, the sum of the PID atoms and the PHID atoms should be the same as it is the TDMI."
   ]
  },
  {
   "cell_type": "code",
   "execution_count": null,
   "id": "a419d860",
   "metadata": {},
   "outputs": [],
   "source": [
    "# generate the time series\n",
    "time=np.linspace(0,10,5000)\n",
    "data = np.zeros((2,len(time)))\n",
    "alpha = 0.9\n",
    "A = np.array([[alpha,alpha],[0,0]])\n",
    "S = np.array([[1,0],[0,1]])\n",
    "for i in range(len(time)-1):\n",
    "    data[:,i+1] = np.dot(A,data[:,i]) + np.random.multivariate_normal(mean=[0,0],cov=S)"
   ]
  },
  {
   "cell_type": "code",
   "execution_count": null,
   "id": "db5cf8d1",
   "metadata": {},
   "outputs": [],
   "source": [
    "X = data[:,1:]\n",
    "Y = data[0,:-1]\n",
    "Z = data[1,:-1]\n",
    "\n",
    "TDMI_pid = sum(PID(X,Y,Z))\n",
    "\n",
    "X1 = data[0,:-1]\n",
    "X2 = data[1,:-1]\n",
    "Y1 = data[0,1:]\n",
    "Y2 = data[1,1:]\n",
    "\n",
    "dict_solution = PHID(X1,X2,Y1,Y2) #dictionary with values of all PHID atoms\n",
    "values = list(dict_solution.values()) #list with values of all PHID atoms \n",
    "\n",
    "TDMI_phid = sum(values)\n",
    "\n",
    "print('PID  TDMI:', TDMI_pid)\n",
    "print('PHID TDMI:', TDMI_phid)\n",
    "print('     TDMI:', I_XY(X,np.vstack((Y,Z))))"
   ]
  },
  {
   "cell_type": "code",
   "execution_count": null,
   "id": "86e4707d",
   "metadata": {},
   "outputs": [],
   "source": [
    "for key in dict_solution.keys():\n",
    "    print(f'{key}:',dict_solution[key])"
   ]
  },
  {
   "cell_type": "markdown",
   "id": "429472e5",
   "metadata": {},
   "source": [
    "## Real data PHID decomposition\n",
    "\n",
    "At this point the PHID can be applied to the real data available. As in the PID case, we create one matrix for each PHID atom but this time we only show some combinations of them representing quantities of interest."
   ]
  },
  {
   "cell_type": "code",
   "execution_count": null,
   "id": "fd056727",
   "metadata": {},
   "outputs": [],
   "source": [
    "data = scipy.io.loadmat(\"102715.REST1.RL.GLS.ptseries.mat\")\n",
    "X = data['tseries']"
   ]
  },
  {
   "cell_type": "code",
   "execution_count": null,
   "id": "ab1f1b55",
   "metadata": {},
   "outputs": [],
   "source": [
    "# PID of real data\n",
    "S, R, U = SRU(X)"
   ]
  },
  {
   "cell_type": "code",
   "execution_count": null,
   "id": "030a15cf",
   "metadata": {},
   "outputs": [],
   "source": [
    "# PHID of real data\n",
    "phid = PHID_m(X)"
   ]
  },
  {
   "cell_type": "markdown",
   "id": "ee16ee8e",
   "metadata": {},
   "source": [
    "An issue occurred in the PID applied to real data is that the WMS is not always positive suggesting that this is not a good quantity for the description of the evolution of information flow.  \n",
    "From the decomposition proposed by Mediano, though, we can notice that some terms may be overcounted and indeed that is the case for the R_R atom. Mediano proposes a revisited version of the WMS by adding the R_R term. We can check that in this way the result is zero or porsitive almost everywhere."
   ]
  },
  {
   "cell_type": "code",
   "execution_count": null,
   "id": "c9eda7b3",
   "metadata": {},
   "outputs": [],
   "source": [
    "WMS = S - R\n",
    "WMSr = WMS + phid['R_R']\n",
    "\n",
    "fig, ax = plt.subplots(figsize=(8,8))\n",
    "cax = ax.matshow(WMSr)\n",
    "fig.colorbar(cax)\n",
    "ax.set_title(\"WMSr\")"
   ]
  },
  {
   "cell_type": "code",
   "execution_count": null,
   "id": "82f48646",
   "metadata": {},
   "outputs": [],
   "source": []
  }
 ],
 "metadata": {
  "kernelspec": {
   "display_name": "Python 3 (ipykernel)",
   "language": "python",
   "name": "python3"
  },
  "language_info": {
   "codemirror_mode": {
    "name": "ipython",
    "version": 3
   },
   "file_extension": ".py",
   "mimetype": "text/x-python",
   "name": "python",
   "nbconvert_exporter": "python",
   "pygments_lexer": "ipython3",
   "version": "3.9.13"
  }
 },
 "nbformat": 4,
 "nbformat_minor": 5
}
